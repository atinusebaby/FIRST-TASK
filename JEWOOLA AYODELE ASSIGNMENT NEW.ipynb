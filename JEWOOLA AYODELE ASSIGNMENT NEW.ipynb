{
 "cells": [
  {
   "cell_type": "markdown",
   "id": "11bb7635-6f94-4895-9850-cfa02951bea6",
   "metadata": {},
   "source": [
    "## James math test score"
   ]
  },
  {
   "cell_type": "code",
   "execution_count": 36,
   "id": "679b65b0-8ee0-4e55-ac89-b382d333ea99",
   "metadata": {},
   "outputs": [],
   "source": [
    "score_list = [78, 90, 67, 52, 84]"
   ]
  },
  {
   "cell_type": "code",
   "execution_count": 38,
   "id": "efc3a567-af2b-4ca4-8381-1c0824b12c60",
   "metadata": {},
   "outputs": [
    {
     "name": "stdout",
     "output_type": "stream",
     "text": [
      "[78, 90, 67, 52, 84]\n"
     ]
    }
   ],
   "source": [
    "print(score_list)"
   ]
  },
  {
   "cell_type": "code",
   "execution_count": 113,
   "id": "24bbbb7d-2bb3-4564-adc8-756d1cfce650",
   "metadata": {},
   "outputs": [],
   "source": [
    "score_list.sort()"
   ]
  },
  {
   "cell_type": "code",
   "execution_count": 115,
   "id": "2076d67e-1b59-4f58-ab0a-7cd829338544",
   "metadata": {},
   "outputs": [
    {
     "data": {
      "text/plain": [
       "[52, 67, 78, 84, 90]"
      ]
     },
     "execution_count": 115,
     "metadata": {},
     "output_type": "execute_result"
    }
   ],
   "source": [
    "sorted(score_list)"
   ]
  },
  {
   "cell_type": "code",
   "execution_count": 117,
   "id": "17a610c9-0ea8-4e11-acbc-2668854e2bb8",
   "metadata": {},
   "outputs": [
    {
     "data": {
      "text/plain": [
       "90"
      ]
     },
     "execution_count": 117,
     "metadata": {},
     "output_type": "execute_result"
    }
   ],
   "source": [
    "max(score_list)"
   ]
  },
  {
   "cell_type": "code",
   "execution_count": 119,
   "id": "5c933bb2-47a9-4f8a-a90a-923dde7bbc44",
   "metadata": {},
   "outputs": [
    {
     "data": {
      "text/plain": [
       "52"
      ]
     },
     "execution_count": 119,
     "metadata": {},
     "output_type": "execute_result"
    }
   ],
   "source": [
    "min(score_list)"
   ]
  },
  {
   "cell_type": "code",
   "execution_count": 40,
   "id": "07f0c7ed-6e38-428b-a19c-ad43c2306f32",
   "metadata": {},
   "outputs": [
    {
     "data": {
      "text/plain": [
       "list"
      ]
     },
     "execution_count": 40,
     "metadata": {},
     "output_type": "execute_result"
    }
   ],
   "source": [
    "type(score_list)"
   ]
  },
  {
   "cell_type": "code",
   "execution_count": 42,
   "id": "4a78e9fe-19d5-4622-b75e-eb27687aa5d5",
   "metadata": {},
   "outputs": [],
   "source": [
    "y=len(score_list)"
   ]
  },
  {
   "cell_type": "code",
   "execution_count": 44,
   "id": "260c7ebd-4e1c-44f0-9f77-12a83afdc0e5",
   "metadata": {},
   "outputs": [],
   "source": [
    "x= sum(score_list)"
   ]
  },
  {
   "cell_type": "code",
   "execution_count": 46,
   "id": "f0ddfd01-52fe-4dd2-a5d3-467c9e0f6ff9",
   "metadata": {},
   "outputs": [
    {
     "name": "stdout",
     "output_type": "stream",
     "text": [
      "90\n"
     ]
    }
   ],
   "source": [
    "print(score_list[1]) #the highest on the list"
   ]
  },
  {
   "cell_type": "code",
   "execution_count": 48,
   "id": "34c9b15a-6691-47ee-bbd5-3d1dca5ade42",
   "metadata": {},
   "outputs": [
    {
     "name": "stdout",
     "output_type": "stream",
     "text": [
      "52\n"
     ]
    }
   ],
   "source": [
    "print(score_list[3])"
   ]
  },
  {
   "cell_type": "code",
   "execution_count": 49,
   "id": "c3278b34-3813-42d7-9337-ab30852a7cdd",
   "metadata": {},
   "outputs": [
    {
     "name": "stdout",
     "output_type": "stream",
     "text": [
      "74.2\n"
     ]
    }
   ],
   "source": [
    "print(x/y) #average  of the score"
   ]
  },
  {
   "cell_type": "code",
   "execution_count": 50,
   "id": "2474a74e-8fe6-4949-a8b6-678c1a602e4f",
   "metadata": {},
   "outputs": [],
   "source": [
    "longer_text=\"\"\"\n",
    "Jame's best score is 90,\n",
    "and his lowest score is 52.\n",
    "His average score is 74.2.\"\"\""
   ]
  },
  {
   "cell_type": "code",
   "execution_count": 51,
   "id": "7d4a507a-55a6-4895-9ced-0e2550729282",
   "metadata": {},
   "outputs": [
    {
     "name": "stdout",
     "output_type": "stream",
     "text": [
      "\n",
      "Jame's best score is 90,\n",
      "and his lowest score is 52.\n",
      "His average score is 74.2.\n"
     ]
    }
   ],
   "source": [
    "print(longer_text)"
   ]
  },
  {
   "cell_type": "markdown",
   "id": "89d0a9d8-dcb7-43db-94f5-bbc51781c9ce",
   "metadata": {},
   "source": [
    "## Aliced groceries list"
   ]
  },
  {
   "cell_type": "code",
   "execution_count": 53,
   "id": "6f1c7e34-4792-4a48-afda-574f3056c3e1",
   "metadata": {},
   "outputs": [],
   "source": [
    "groceries_list=[1200, 1000, 450, 780, 870, 1100, 1500]"
   ]
  },
  {
   "cell_type": "code",
   "execution_count": 54,
   "id": "7a262980-f3e5-4fd7-b5e7-be6c207c6934",
   "metadata": {},
   "outputs": [
    {
     "name": "stdout",
     "output_type": "stream",
     "text": [
      "1100\n"
     ]
    }
   ],
   "source": [
    "print(groceries_list[5]) #the most expensive"
   ]
  },
  {
   "cell_type": "code",
   "execution_count": 55,
   "id": "c30785bf-5512-4368-b8eb-0f9681859927",
   "metadata": {},
   "outputs": [
    {
     "name": "stdout",
     "output_type": "stream",
     "text": [
      "450\n"
     ]
    }
   ],
   "source": [
    "print(groceries_list[2]) #the least expensive"
   ]
  },
  {
   "cell_type": "code",
   "execution_count": 56,
   "id": "4c957337-6625-421c-a15d-069060f80cf5",
   "metadata": {},
   "outputs": [],
   "source": [
    "groceries_list_slide= \"1200, 1000, 450, 780, 870, 1100, 1500\""
   ]
  },
  {
   "cell_type": "code",
   "execution_count": 57,
   "id": "4d2933f8-7281-4424-8569-48d9b12a7c45",
   "metadata": {},
   "outputs": [
    {
     "data": {
      "text/plain": [
       "'0'"
      ]
     },
     "execution_count": 57,
     "metadata": {},
     "output_type": "execute_result"
    }
   ],
   "source": [
    "groceries_list_slide[-1:]"
   ]
  },
  {
   "cell_type": "code",
   "execution_count": 58,
   "id": "1f3db508-5350-4692-982b-89ccc51402ee",
   "metadata": {},
   "outputs": [],
   "source": [
    "groceries_list.sort()"
   ]
  },
  {
   "cell_type": "code",
   "execution_count": 59,
   "id": "dcc2e8ee-61ed-4642-9297-bd378f64cbb8",
   "metadata": {},
   "outputs": [
    {
     "data": {
      "text/plain": [
       "[450, 780, 870, 1000, 1100, 1200, 1500]"
      ]
     },
     "execution_count": 59,
     "metadata": {},
     "output_type": "execute_result"
    }
   ],
   "source": [
    "sorted(groceries_list)"
   ]
  },
  {
   "cell_type": "code",
   "execution_count": 121,
   "id": "8ebc563b-a16d-43ad-97ed-254280304002",
   "metadata": {},
   "outputs": [
    {
     "data": {
      "text/plain": [
       "1500"
      ]
     },
     "execution_count": 121,
     "metadata": {},
     "output_type": "execute_result"
    }
   ],
   "source": [
    "max(groceries_list)"
   ]
  },
  {
   "cell_type": "code",
   "execution_count": 123,
   "id": "940be661-462e-4349-815d-eb93bda183ab",
   "metadata": {},
   "outputs": [
    {
     "data": {
      "text/plain": [
       "450"
      ]
     },
     "execution_count": 123,
     "metadata": {},
     "output_type": "execute_result"
    }
   ],
   "source": [
    "min(groceries_list)"
   ]
  },
  {
   "cell_type": "code",
   "execution_count": 60,
   "id": "29bb9c27-5cf5-4b32-93ff-dfaa69ef2c47",
   "metadata": {},
   "outputs": [
    {
     "data": {
      "text/plain": [
       "[1100, 1200, 1500]"
      ]
     },
     "execution_count": 60,
     "metadata": {},
     "output_type": "execute_result"
    }
   ],
   "source": [
    "groceries_list[4:]"
   ]
  },
  {
   "cell_type": "code",
   "execution_count": 153,
   "id": "474ce4c2-8add-45b2-8555-4de3defa8e09",
   "metadata": {},
   "outputs": [
    {
     "data": {
      "text/plain": [
       "[1100, 1200, 1500]"
      ]
     },
     "execution_count": 153,
     "metadata": {},
     "output_type": "execute_result"
    }
   ],
   "source": [
    "sorted(groceries_list)[4:]"
   ]
  },
  {
   "cell_type": "markdown",
   "id": "4ddeb94b-85b6-4c0f-a6fe-b5b55bf7345d",
   "metadata": {},
   "source": [
    "## UNCLE JOE VACATION LIST"
   ]
  },
  {
   "cell_type": "code",
   "execution_count": 156,
   "id": "a0509100-65a4-4378-a69f-7ac5961f735b",
   "metadata": {},
   "outputs": [],
   "source": [
    "#joe list\n",
    "packing_list = [\"clothes\", \"shoes\", \"toiletries\", \"snack\", \"ticket\"]"
   ]
  },
  {
   "cell_type": "code",
   "execution_count": 158,
   "id": "3a98940f-b87d-45e2-a5fb-d7a5b71de651",
   "metadata": {},
   "outputs": [],
   "source": [
    "# uncle joe did not want snacks anymore\n",
    "packing_list.remove(\"snack\")"
   ]
  },
  {
   "cell_type": "code",
   "execution_count": 160,
   "id": "144077db-bcb5-4f21-b594-4632ead5378c",
   "metadata": {},
   "outputs": [],
   "source": [
    "# uncle joe want sunglasses to be added to the list\n",
    "packing_list.insert(0, \"sunglassses\")"
   ]
  },
  {
   "cell_type": "code",
   "execution_count": 162,
   "id": "452b5657-52f9-4def-b1be-1da49ca401a4",
   "metadata": {},
   "outputs": [
    {
     "name": "stdout",
     "output_type": "stream",
     "text": [
      "['sunglassses', 'clothes', 'shoes', 'toiletries', 'ticket']\n"
     ]
    }
   ],
   "source": [
    "print(packing_list)"
   ]
  },
  {
   "cell_type": "markdown",
   "id": "06bd3f31-7405-42ff-a0a3-643ac221b950",
   "metadata": {},
   "source": [
    "# Student detail"
   ]
  },
  {
   "cell_type": "code",
   "execution_count": 165,
   "id": "c470dae1-1a44-4b96-aa58-909fc1c0f68a",
   "metadata": {},
   "outputs": [],
   "source": [
    "# store student name in a tuple\n",
    "allen= (\"Allen James\", 17, \"Mechanical engineering\", 4.0)"
   ]
  },
  {
   "cell_type": "code",
   "execution_count": 167,
   "id": "1d073790-2c1f-4d52-a487-462290bd2111",
   "metadata": {},
   "outputs": [],
   "source": [
    "name = allen[0] #student's name"
   ]
  },
  {
   "cell_type": "code",
   "execution_count": 148,
   "id": "488da7fc-30e5-4d79-9fd0-530fcb342027",
   "metadata": {},
   "outputs": [
    {
     "name": "stdout",
     "output_type": "stream",
     "text": [
      "Allen James\n"
     ]
    }
   ],
   "source": [
    "print(name)"
   ]
  },
  {
   "cell_type": "code",
   "execution_count": 142,
   "id": "3b3e5e4d-857f-422c-9778-2107c1c75e71",
   "metadata": {},
   "outputs": [],
   "source": [
    "department= allen[2] # student's department"
   ]
  },
  {
   "cell_type": "code",
   "execution_count": 150,
   "id": "5a17f52b-ce26-4617-948c-cd5bbf4937da",
   "metadata": {},
   "outputs": [
    {
     "name": "stdout",
     "output_type": "stream",
     "text": [
      "Mechanical engineering\n"
     ]
    }
   ],
   "source": [
    "print(department)"
   ]
  },
  {
   "cell_type": "code",
   "execution_count": 144,
   "id": "a36aa39b-00de-4a0d-8306-ff5d7d669990",
   "metadata": {},
   "outputs": [
    {
     "data": {
      "text/plain": [
       "('Allen James', 'Mechanical engineering')"
      ]
     },
     "execution_count": 144,
     "metadata": {},
     "output_type": "execute_result"
    }
   ],
   "source": [
    "allen[0:3:2]"
   ]
  },
  {
   "cell_type": "code",
   "execution_count": 146,
   "id": "a45f34e6-fcaf-40ed-a783-fc6b12b0a132",
   "metadata": {},
   "outputs": [
    {
     "ename": "SyntaxError",
     "evalue": "invalid syntax (2102821283.py, line 2)",
     "output_type": "error",
     "traceback": [
      "\u001b[1;36m  Cell \u001b[1;32mIn[146], line 2\u001b[1;36m\u001b[0m\n\u001b[1;33m    it cannot be modified since its not mutable\u001b[0m\n\u001b[1;37m       ^\u001b[0m\n\u001b[1;31mSyntaxError\u001b[0m\u001b[1;31m:\u001b[0m invalid syntax\n"
     ]
    }
   ],
   "source": [
    "allen.replace(-1, 3.8) #the error is because a tuple object cannot be replace. \n",
    "it cannot be modified since its not mutable"
   ]
  },
  {
   "cell_type": "code",
   "execution_count": 80,
   "id": "6d7d89d0-4e5b-4ca2-ba82-1db18a3a67ba",
   "metadata": {},
   "outputs": [
    {
     "ename": "SyntaxError",
     "evalue": "invalid syntax (999388166.py, line 2)",
     "output_type": "error",
     "traceback": [
      "\u001b[1;36m  Cell \u001b[1;32mIn[80], line 2\u001b[1;36m\u001b[0m\n\u001b[1;33m    it is not an integer because it is included with other tuple variable with comma.\u001b[0m\n\u001b[1;37m                 ^\u001b[0m\n\u001b[1;31mSyntaxError\u001b[0m\u001b[1;31m:\u001b[0m invalid syntax\n"
     ]
    }
   ],
   "source": [
    "#the data type used to store are CGPA is tuple, \n",
    "it is not an integer because it is included with other tuple variable with comma."
   ]
  },
  {
   "cell_type": "code",
   "execution_count": 169,
   "id": "23a383af-6a66-4600-98f0-ce5bb1aa2f0e",
   "metadata": {},
   "outputs": [],
   "source": [
    "my_list=[0,1,2,3,4]"
   ]
  },
  {
   "cell_type": "code",
   "execution_count": 171,
   "id": "c8eb9abf-7186-4fc2-9e3d-dad3cdc064b8",
   "metadata": {},
   "outputs": [
    {
     "data": {
      "text/plain": [
       "[0, 2, 4]"
      ]
     },
     "execution_count": 171,
     "metadata": {},
     "output_type": "execute_result"
    }
   ],
   "source": [
    "my_list[::2]"
   ]
  },
  {
   "cell_type": "code",
   "execution_count": 173,
   "id": "f2388ba1-8f4c-4ebc-80b9-c00af56234b5",
   "metadata": {},
   "outputs": [],
   "source": [
    "a=[5,10,15,20,25]"
   ]
  },
  {
   "cell_type": "code",
   "execution_count": 175,
   "id": "cb919904-8656-4ab8-a434-37e4cb164db8",
   "metadata": {},
   "outputs": [
    {
     "name": "stdout",
     "output_type": "stream",
     "text": [
      "[5, 10, 15]\n"
     ]
    }
   ],
   "source": [
    "print(a[:-2])"
   ]
  },
  {
   "cell_type": "code",
   "execution_count": 177,
   "id": "42674019-1a3c-4ef2-878b-cffd1ace5f7d",
   "metadata": {},
   "outputs": [],
   "source": [
    "numbers=[100,200,300,400]"
   ]
  },
  {
   "cell_type": "code",
   "execution_count": 179,
   "id": "88ec41ef-22c0-4be3-aac2-5e2522c9bc90",
   "metadata": {},
   "outputs": [
    {
     "ename": "SyntaxError",
     "evalue": "invalid syntax (1226710558.py, line 1)",
     "output_type": "error",
     "traceback": [
      "\u001b[1;36m  Cell \u001b[1;32mIn[179], line 1\u001b[1;36m\u001b[0m\n\u001b[1;33m    print([1:1])\u001b[0m\n\u001b[1;37m            ^\u001b[0m\n\u001b[1;31mSyntaxError\u001b[0m\u001b[1;31m:\u001b[0m invalid syntax\n"
     ]
    }
   ],
   "source": [
    "print([1:1])"
   ]
  },
  {
   "cell_type": "code",
   "execution_count": null,
   "id": "04a11c15-3127-465a-b554-f81a2b256df1",
   "metadata": {},
   "outputs": [],
   "source": [
    "d="
   ]
  },
  {
   "cell_type": "code",
   "execution_count": 181,
   "id": "2941346e-4b6c-417f-bbe8-7d4f1b520c6c",
   "metadata": {},
   "outputs": [
    {
     "ename": "SyntaxError",
     "evalue": "invalid syntax (2942261144.py, line 3)",
     "output_type": "error",
     "traceback": [
      "\u001b[1;36m  Cell \u001b[1;32mIn[181], line 3\u001b[1;36m\u001b[0m\n\u001b[1;33m    except valueerror\u001b[0m\n\u001b[1;37m    ^\u001b[0m\n\u001b[1;31mSyntaxError\u001b[0m\u001b[1;31m:\u001b[0m invalid syntax\n"
     ]
    }
   ],
   "source": [
    "val=int(\"5\")\n",
    "print(val)\n",
    "except valueerror\n",
    "print(\"bad output\")"
   ]
  },
  {
   "cell_type": "code",
   "execution_count": 183,
   "id": "e628d033-e391-4761-89d8-9761dd261665",
   "metadata": {},
   "outputs": [
    {
     "name": "stdout",
     "output_type": "stream",
     "text": [
      "{'a': 1, 'b': 2}\n"
     ]
    }
   ],
   "source": [
    "d={\"a\":1}\n",
    "d[\"b\"]=2\n",
    "print(d)"
   ]
  },
  {
   "cell_type": "code",
   "execution_count": 185,
   "id": "90799f60-8290-47c0-be59-81e1c518d71a",
   "metadata": {},
   "outputs": [],
   "source": [
    "x=1,2,3"
   ]
  },
  {
   "cell_type": "code",
   "execution_count": 191,
   "id": "e0efa09f-03dc-4d6e-b606-84f7c1780467",
   "metadata": {},
   "outputs": [
    {
     "ename": "NameError",
     "evalue": "name 'typ' is not defined",
     "output_type": "error",
     "traceback": [
      "\u001b[1;31m---------------------------------------------------------------------------\u001b[0m",
      "\u001b[1;31mNameError\u001b[0m                                 Traceback (most recent call last)",
      "Cell \u001b[1;32mIn[191], line 1\u001b[0m\n\u001b[1;32m----> 1\u001b[0m typ(\u001b[38;5;124m\"\u001b[39m\u001b[38;5;124mx\u001b[39m\u001b[38;5;124m\"\u001b[39m)\n",
      "\u001b[1;31mNameError\u001b[0m: name 'typ' is not defined"
     ]
    }
   ],
   "source": [
    "typ(\"x\")"
   ]
  },
  {
   "cell_type": "code",
   "execution_count": null,
   "id": "a22a0d98-d299-4eaf-a57c-1b3b2e0fbee5",
   "metadata": {},
   "outputs": [],
   "source": []
  }
 ],
 "metadata": {
  "kernelspec": {
   "display_name": "Python [conda env:base] *",
   "language": "python",
   "name": "conda-base-py"
  },
  "language_info": {
   "codemirror_mode": {
    "name": "ipython",
    "version": 3
   },
   "file_extension": ".py",
   "mimetype": "text/x-python",
   "name": "python",
   "nbconvert_exporter": "python",
   "pygments_lexer": "ipython3",
   "version": "3.12.7"
  }
 },
 "nbformat": 4,
 "nbformat_minor": 5
}
